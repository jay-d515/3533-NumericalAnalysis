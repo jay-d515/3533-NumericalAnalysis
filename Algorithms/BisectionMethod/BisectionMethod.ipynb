{
  "nbformat": 4,
  "nbformat_minor": 0,
  "metadata": {
    "colab": {
      "provenance": [],
      "authorship_tag": "ABX9TyMIYzysJC+TC+R53xDKqlSu",
      "include_colab_link": true
    },
    "kernelspec": {
      "name": "python3",
      "display_name": "Python 3"
    },
    "language_info": {
      "name": "python"
    }
  },
  "cells": [
    {
      "cell_type": "markdown",
      "metadata": {
        "id": "view-in-github",
        "colab_type": "text"
      },
      "source": [
        "<a href=\"https://colab.research.google.com/github/jay-d515/3533-NumericalAnalysis/blob/main/Algorithms/BisectionMethod/BisectionMethod.ipynb\" target=\"_parent\"><img src=\"https://colab.research.google.com/assets/colab-badge.svg\" alt=\"Open In Colab\"/></a>"
      ]
    },
    {
      "cell_type": "markdown",
      "source": [
        "\n",
        "\n",
        "```\n",
        "# Bisection Method\n",
        "```\n",
        "\n"
      ],
      "metadata": {
        "id": "223xBY6t2o6F"
      }
    },
    {
      "cell_type": "code",
      "execution_count": 10,
      "metadata": {
        "id": "BIqVn_D1zlgC"
      },
      "outputs": [],
      "source": [
        "\"\"\"\n",
        "Bisection method to find the root of a function\n",
        "\n",
        "Parameters:\n",
        "func: the function we're finding the root of\n",
        "a, b: the interval [a, b] where the root is located\n",
        "tol: the tolerance level for the approximation\n",
        "max_iterations: the maximum number of iterations allowed\n",
        "\n",
        "Returns: the approximate root and the number of iterations performed\n",
        "\"\"\"\n",
        "def bisection_method(func, a, b, tol, max_iterations):\n",
        "  # checks if the function has the same sign at a and b\n",
        "  if func(a) * func(b) >= 0:\n",
        "    print(\"The bisection method fails. The function has the same signs at a and b.\")\n",
        "    return None\n",
        "\n",
        "  iteration = 0\n",
        "  while iteration < max_iterations:\n",
        "    # calculate the midpoint of the interval\n",
        "    c = (a + b) / 2\n",
        "\n",
        "    # check if the midpoint is the root\n",
        "    if abs(func(c)) < tol or (b - a)/ 2 < tol:\n",
        "      return c, iteration\n",
        "\n",
        "    iteration += 1\n",
        "    if func(c) * func(a) < 0:\n",
        "      # root lies in [a, c]\n",
        "      b = c\n",
        "    else:\n",
        "      # root lies in [c, b]\n",
        "      a = c\n",
        "\n",
        "  print(\"Maximum number of iterations reached\")\n",
        "  return None"
      ]
    },
    {
      "cell_type": "code",
      "source": [
        "\"\"\"\n",
        "Example function to find the root of\n",
        "\"\"\"\n",
        "def f(x):\n",
        "  return x**3 - x - 2"
      ],
      "metadata": {
        "id": "6jrJR-iS7KoM"
      },
      "execution_count": 11,
      "outputs": []
    },
    {
      "cell_type": "code",
      "source": [
        "# stores the approximate root and the number of iterations\n",
        "root, iterations = bisection_method(f, 1, 2, 1e-6, 100)\n",
        "# prints the approximate root and number of iterations\n",
        "print(\"Root:\", root)\n",
        "print(\"Iterations:\", iterations)"
      ],
      "metadata": {
        "colab": {
          "base_uri": "https://localhost:8080/"
        },
        "id": "aeg6czWw9lgX",
        "outputId": "5d82682c-baf2-4596-f8ed-424047ff46a2"
      },
      "execution_count": 12,
      "outputs": [
        {
          "output_type": "stream",
          "name": "stdout",
          "text": [
            "Root: 1.5213804244995117\n",
            "Iterations: 19\n"
          ]
        }
      ]
    }
  ]
}