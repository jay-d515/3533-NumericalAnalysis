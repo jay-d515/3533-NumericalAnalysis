{
  "nbformat": 4,
  "nbformat_minor": 0,
  "metadata": {
    "colab": {
      "provenance": [],
      "authorship_tag": "ABX9TyNOQ8pYaQnGpyqK/0MSiD+3",
      "include_colab_link": true
    },
    "kernelspec": {
      "name": "python3",
      "display_name": "Python 3"
    },
    "language_info": {
      "name": "python"
    }
  },
  "cells": [
    {
      "cell_type": "markdown",
      "metadata": {
        "id": "view-in-github",
        "colab_type": "text"
      },
      "source": [
        "<a href=\"https://colab.research.google.com/github/jay-d515/3533-NumericalAnalysis/blob/main/Algorithms/BisectionMethod/BisectionMethod.ipynb\" target=\"_parent\"><img src=\"https://colab.research.google.com/assets/colab-badge.svg\" alt=\"Open In Colab\"/></a>"
      ]
    },
    {
      "cell_type": "markdown",
      "source": [
        "\n",
        "\n",
        "```\n",
        "# Bisection Method\n",
        "```\n",
        "\n"
      ],
      "metadata": {
        "id": "223xBY6t2o6F"
      }
    },
    {
      "cell_type": "code",
      "execution_count": 15,
      "metadata": {
        "id": "BIqVn_D1zlgC"
      },
      "outputs": [],
      "source": [
        "\"\"\"\n",
        "Bisection method to find the root of a function\n",
        "\n",
        "Parameters:\n",
        "func: the function we're finding the root of\n",
        "a, b: the interval [a, b] where the root is located\n",
        "tol: the tolerance level for the approximation\n",
        "max_iterations: the maximum number of iterations allowed\n",
        "\n",
        "Returns: the approximate root and the number of iterations performed, or (None, None) if the method fails\n",
        "\"\"\"\n",
        "def bisection_method(func, a, b, tol, max_iterations):\n",
        "  # checks if the function has the same sign at a and b\n",
        "  if func(a) * func(b) >= 0:\n",
        "    print(\"The bisection method fails. The function has the same signs at a and b.\")\n",
        "    return None, None\n",
        "\n",
        "  iteration = 0\n",
        "  while iteration < max_iterations:\n",
        "    # calculate the midpoint of the interval\n",
        "    c = (a + b) / 2\n",
        "\n",
        "    # check if the midpoint is the root\n",
        "    if abs(func(c)) < tol or (b - a)/ 2 < tol:\n",
        "      return c, iteration\n",
        "\n",
        "    iteration += 1\n",
        "    if func(c) * func(a) < 0:\n",
        "      # root lies in [a, c]\n",
        "      b = c\n",
        "    else:\n",
        "      # root lies in [c, b]\n",
        "      a = c\n",
        "\n",
        "  print(\"Maximum number of iterations reached\")\n",
        "  return None, None"
      ]
    },
    {
      "cell_type": "markdown",
      "source": [
        "```\n",
        "Question 1: Use the bisection method to find p_3 for f(x) = math.sqrt(x) - math.cos(x) = 0 on [0, 1]\n",
        "```\n",
        "\n"
      ],
      "metadata": {
        "id": "0kqvGWg1NaJX"
      }
    },
    {
      "cell_type": "code",
      "source": [
        "import math\n",
        "\n",
        "q1 = lambda x: math.sqrt(x) - math.cos(x)\n",
        "\n",
        "root1, iterations1 = bisection_method(q1, 0, 1, 1e-1, 100)\n",
        "\n",
        "if root1 is not None:\n",
        "  print(\"Root:\", root1)\n",
        "  print(\"Iterations:\", iterations1)\n",
        "else:\n",
        "  print(\"Bisection method failed.\")"
      ],
      "metadata": {
        "id": "6jrJR-iS7KoM",
        "colab": {
          "base_uri": "https://localhost:8080/"
        },
        "outputId": "a5262eff-ce71-4e0d-dd5d-7aea17e24170"
      },
      "execution_count": 13,
      "outputs": [
        {
          "output_type": "stream",
          "name": "stdout",
          "text": [
            "Root: 0.625\n",
            "Iterations: 2\n"
          ]
        }
      ]
    },
    {
      "cell_type": "markdown",
      "source": [
        "\n",
        "\n",
        "```\n",
        "Question 2: Use the bisection method to find solutions accurate to within 10e-2 for x**3 - 7x**2 + 14x = 0 on each interval.\n",
        "```\n",
        "\n"
      ],
      "metadata": {
        "id": "3Ckp10ywNQvx"
      }
    },
    {
      "cell_type": "code",
      "source": [
        "\n",
        "q2 = lambda x: x**3 - 7*x**2 + 14*x\n",
        "\n",
        "# a. [0, 1]\n",
        "root2_a, iterations2_a = bisection_method(q2, 0, 1, 1e-2, 100)\n",
        "\n",
        "if root2_a is not None:\n",
        "    print(\"Root (2a):\", root2_a)\n",
        "    print(\"Iterations (2a):\", iterations2_a)\n",
        "else:\n",
        "    print(\"Bisection method failed.\")"
      ],
      "metadata": {
        "colab": {
          "base_uri": "https://localhost:8080/"
        },
        "id": "ZPodp80wKbNe",
        "outputId": "8126d461-c4f8-4c2c-92cd-ab768ea609fc"
      },
      "execution_count": 16,
      "outputs": [
        {
          "output_type": "stream",
          "name": "stdout",
          "text": [
            "The bisection method fails. The function has the same signs at a and b.\n",
            "Bisection method failed for interval [0, 1].\n"
          ]
        }
      ]
    },
    {
      "cell_type": "code",
      "source": [
        "# b. [1, 3.2]\n",
        "root2_b, iterations2_b = bisection_method(q2, 1, 3.2, 1e-2, 100)\n",
        "\n",
        "if root2_b is not None:\n",
        "  print(\"Root (b):\", root2_b)\n",
        "  print(\"Iterations (b):\", iterations2_b)\n",
        "else:\n",
        "  print(\"Bisection method failed.\")"
      ],
      "metadata": {
        "id": "6K2iRNVIL9dy"
      },
      "execution_count": null,
      "outputs": []
    },
    {
      "cell_type": "code",
      "source": [
        "# c. [3.2, 4]\n",
        "root2_c, iterations2_c = bisection_method(q2, 3.2, 4, 1e-2, 100)\n",
        "\n",
        "if root2_c is not None:\n",
        "  print(\"Root (a):\", root2_c)\n",
        "  print(\"Iterations (a):\", iterations2_c)\n",
        "else:\n",
        "  print(\"Bisection method failed.\")"
      ],
      "metadata": {
        "id": "1fUw70wuL_b-"
      },
      "execution_count": null,
      "outputs": []
    }
  ]
}