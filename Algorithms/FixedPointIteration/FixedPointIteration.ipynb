{
  "nbformat": 4,
  "nbformat_minor": 0,
  "metadata": {
    "colab": {
      "provenance": [],
      "authorship_tag": "ABX9TyOMySYm5XKcTKwysjixIJka",
      "include_colab_link": true
    },
    "kernelspec": {
      "name": "python3",
      "display_name": "Python 3"
    },
    "language_info": {
      "name": "python"
    }
  },
  "cells": [
    {
      "cell_type": "markdown",
      "metadata": {
        "id": "view-in-github",
        "colab_type": "text"
      },
      "source": [
        "<a href=\"https://colab.research.google.com/github/jay-d515/3533-NumericalAnalysis/blob/main/Algorithms/FixedPointIteration/FixedPointIteration.ipynb\" target=\"_parent\"><img src=\"https://colab.research.google.com/assets/colab-badge.svg\" alt=\"Open In Colab\"/></a>"
      ]
    },
    {
      "cell_type": "markdown",
      "source": [
        "# Fixed Point Interation Method\n",
        "\n"
      ],
      "metadata": {
        "id": "kqKvTMNejKaX"
      }
    },
    {
      "cell_type": "code",
      "execution_count": 1,
      "metadata": {
        "id": "_T2LMx3zjHOr"
      },
      "outputs": [],
      "source": [
        "\"\"\"\n",
        "Fixed-point iteration method to find a solution to x = g(x).\n",
        "\n",
        "Parameters:\n",
        "  g: The function g(x).\n",
        "  x0: Initial guess.\n",
        "  tol: Tolerance for convergence.\n",
        "  max_iterations: Maximum number of iterations.\n",
        "\n",
        "Returns: The approximate solution and the number of iterations performed.\n",
        "\n",
        "Raises: ValueError, if the fixed-point iteration does not converge within the maximum number of iterations.\n",
        "\n",
        "\"\"\"\n",
        "def fixed_point_iteration(g, x0, tol=1e-6, max_iter=100):\n",
        "    x = x0\n",
        "    for i in range(max_iter):\n",
        "        x_next = g(x)\n",
        "        if abs(x_next - x) < tol:\n",
        "            return x_next, i + 1\n",
        "        x = x_next\n",
        "    raise ValueError(\"Fixed-point iteration did not converge within the maximum number of iterations.\")\n"
      ]
    },
    {
      "cell_type": "markdown",
      "source": [
        "Use algebraic manipulation to show that each of the following functions has a fixed point at p precisely when f(p) = 0, where f(x) = x^4 + 2x^2 - x - 3"
      ],
      "metadata": {
        "id": "qprr41tR7SDc"
      }
    },
    {
      "cell_type": "code",
      "source": [
        "# g_1(x) = (3 + x - 2x^2)^1/4\n",
        "q_1a = lambda x: (3 + x - 2*x**2)**(1/4)\n",
        "\n",
        "root_1a, iterations_1a = fixed_point_iteration(q_1a, 1.0)\n",
        "\n",
        "print(f\"Root 1a: {root_1a}\")\n",
        "print(f\"Iterations 1a: {iterations_1a}\")"
      ],
      "metadata": {
        "id": "_WeNH5dc7JVh",
        "outputId": "e9428282-042d-4e82-c401-6fe8a45ffa8d",
        "colab": {
          "base_uri": "https://localhost:8080/"
        }
      },
      "execution_count": 2,
      "outputs": [
        {
          "output_type": "stream",
          "name": "stdout",
          "text": [
            "Root 1a: 1.124122660658014\n",
            "Iterations 1a: 26\n"
          ]
        }
      ]
    },
    {
      "cell_type": "markdown",
      "source": [
        "3. Let f(x) = x^3 - 2x +1. To solve f(x) = 0, the following four fixed-point problems are proposed. Derive each fixed point method and compute p_1, p_2, p_3, p_4. Which methods seem to be appropriate?"
      ],
      "metadata": {
        "id": "glF-a2AC_6AA"
      }
    },
    {
      "cell_type": "code",
      "source": [
        "# a. x = 1/2(x**3 + 1), p_0 = 1/2\n",
        "q_2a = lambda x: (1/2)*(x**3 + 1)\n",
        "root_2a, iterations_2a = fixed_point_iteration(q_2a, 1.0)\n",
        "\n",
        "print(f\"Root 2a: {root_2a}\")\n",
        "print(f\"Iterations 2a: {iterations_2a}\")"
      ],
      "metadata": {
        "id": "yHG0c5zXDThz",
        "outputId": "756f8221-2700-4ab2-e886-605a51e615e4",
        "colab": {
          "base_uri": "https://localhost:8080/"
        }
      },
      "execution_count": 3,
      "outputs": [
        {
          "output_type": "stream",
          "name": "stdout",
          "text": [
            "Root 2a: 1.0\n",
            "Iterations 2a: 1\n"
          ]
        }
      ]
    }
  ]
}